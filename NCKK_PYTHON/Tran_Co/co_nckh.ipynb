{
 "cells": [
  {
   "cell_type": "markdown",
   "id": "321f9a39",
   "metadata": {},
   "source": [
    "B1"
   ]
  },
  {
   "cell_type": "code",
   "execution_count": 2,
   "id": "ecb36bb0",
   "metadata": {},
   "outputs": [],
   "source": [
    "import pandas as pd\n",
    "import os\n"
   ]
  },
  {
   "cell_type": "markdown",
   "id": "3f5a04f6",
   "metadata": {},
   "source": [
    "B2"
   ]
  },
  {
   "cell_type": "code",
   "execution_count": 3,
   "id": "62d93c6a",
   "metadata": {},
   "outputs": [
    {
     "name": "stdout",
     "output_type": "stream",
     "text": [
      "📂 Thư mục hiện tại: c:\\Users\\Ngoc Toan\\OneDrive\\Desktop\\nckh pull\\NCKK_PYTHON\\NCKK_PYTHON\\Tran_Co\n"
     ]
    }
   ],
   "source": [
    "print(\"📂 Thư mục hiện tại:\", os.getcwd())\n"
   ]
  },
  {
   "cell_type": "markdown",
   "id": "776b0a3a",
   "metadata": {},
   "source": [
    "B3"
   ]
  },
  {
   "cell_type": "code",
   "execution_count": 4,
   "id": "71e4ad27",
   "metadata": {},
   "outputs": [
    {
     "name": "stdout",
     "output_type": "stream",
     "text": [
      "✅ Đọc file 'CA_Weather_Fire_Dataset_1984-2025.csv' thành công!\n",
      "Dữ liệu gồm 14988 dòng và 14 cột.\n"
     ]
    }
   ],
   "source": [
    "ten_file = \"CA_Weather_Fire_Dataset_1984-2025.csv\"  # Đặt đúng tên file\n",
    "du_lieu = pd.read_csv(ten_file)\n",
    "print(f\"✅ Đọc file '{ten_file}' thành công!\")\n",
    "print(f\"Dữ liệu gồm {du_lieu.shape[0]} dòng và {du_lieu.shape[1]} cột.\")\n"
   ]
  },
  {
   "cell_type": "markdown",
   "id": "443a4728",
   "metadata": {},
   "source": [
    "B4"
   ]
  },
  {
   "cell_type": "code",
   "execution_count": 5,
   "id": "7e5d915a",
   "metadata": {},
   "outputs": [
    {
     "data": {
      "text/html": [
       "<div>\n",
       "<style scoped>\n",
       "    .dataframe tbody tr th:only-of-type {\n",
       "        vertical-align: middle;\n",
       "    }\n",
       "\n",
       "    .dataframe tbody tr th {\n",
       "        vertical-align: top;\n",
       "    }\n",
       "\n",
       "    .dataframe thead th {\n",
       "        text-align: right;\n",
       "    }\n",
       "</style>\n",
       "<table border=\"1\" class=\"dataframe\">\n",
       "  <thead>\n",
       "    <tr style=\"text-align: right;\">\n",
       "      <th></th>\n",
       "      <th>DATE</th>\n",
       "      <th>PRECIPITATION</th>\n",
       "      <th>MAX_TEMP</th>\n",
       "      <th>MIN_TEMP</th>\n",
       "      <th>AVG_WIND_SPEED</th>\n",
       "      <th>FIRE_START_DAY</th>\n",
       "      <th>YEAR</th>\n",
       "      <th>TEMP_RANGE</th>\n",
       "      <th>WIND_TEMP_RATIO</th>\n",
       "      <th>MONTH</th>\n",
       "      <th>SEASON</th>\n",
       "      <th>LAGGED_PRECIPITATION</th>\n",
       "      <th>LAGGED_AVG_WIND_SPEED</th>\n",
       "      <th>DAY_OF_YEAR</th>\n",
       "    </tr>\n",
       "  </thead>\n",
       "  <tbody>\n",
       "    <tr>\n",
       "      <th>0</th>\n",
       "      <td>1984-01-01</td>\n",
       "      <td>0.0</td>\n",
       "      <td>79.0</td>\n",
       "      <td>51.0</td>\n",
       "      <td>4.70</td>\n",
       "      <td>False</td>\n",
       "      <td>1984</td>\n",
       "      <td>28.0</td>\n",
       "      <td>0.059494</td>\n",
       "      <td>1</td>\n",
       "      <td>Winter</td>\n",
       "      <td>0.0</td>\n",
       "      <td>4.700</td>\n",
       "      <td>1</td>\n",
       "    </tr>\n",
       "    <tr>\n",
       "      <th>1</th>\n",
       "      <td>1984-01-02</td>\n",
       "      <td>0.0</td>\n",
       "      <td>71.0</td>\n",
       "      <td>46.0</td>\n",
       "      <td>5.59</td>\n",
       "      <td>False</td>\n",
       "      <td>1984</td>\n",
       "      <td>25.0</td>\n",
       "      <td>0.078732</td>\n",
       "      <td>1</td>\n",
       "      <td>Winter</td>\n",
       "      <td>0.0</td>\n",
       "      <td>5.145</td>\n",
       "      <td>2</td>\n",
       "    </tr>\n",
       "    <tr>\n",
       "      <th>2</th>\n",
       "      <td>1984-01-03</td>\n",
       "      <td>0.0</td>\n",
       "      <td>70.0</td>\n",
       "      <td>47.0</td>\n",
       "      <td>5.37</td>\n",
       "      <td>False</td>\n",
       "      <td>1984</td>\n",
       "      <td>23.0</td>\n",
       "      <td>0.076714</td>\n",
       "      <td>1</td>\n",
       "      <td>Winter</td>\n",
       "      <td>0.0</td>\n",
       "      <td>5.220</td>\n",
       "      <td>3</td>\n",
       "    </tr>\n",
       "    <tr>\n",
       "      <th>3</th>\n",
       "      <td>1984-01-04</td>\n",
       "      <td>0.0</td>\n",
       "      <td>76.0</td>\n",
       "      <td>45.0</td>\n",
       "      <td>4.70</td>\n",
       "      <td>False</td>\n",
       "      <td>1984</td>\n",
       "      <td>31.0</td>\n",
       "      <td>0.061842</td>\n",
       "      <td>1</td>\n",
       "      <td>Winter</td>\n",
       "      <td>0.0</td>\n",
       "      <td>5.090</td>\n",
       "      <td>4</td>\n",
       "    </tr>\n",
       "    <tr>\n",
       "      <th>4</th>\n",
       "      <td>1984-01-05</td>\n",
       "      <td>0.0</td>\n",
       "      <td>74.0</td>\n",
       "      <td>49.0</td>\n",
       "      <td>5.14</td>\n",
       "      <td>False</td>\n",
       "      <td>1984</td>\n",
       "      <td>25.0</td>\n",
       "      <td>0.069459</td>\n",
       "      <td>1</td>\n",
       "      <td>Winter</td>\n",
       "      <td>0.0</td>\n",
       "      <td>5.100</td>\n",
       "      <td>5</td>\n",
       "    </tr>\n",
       "  </tbody>\n",
       "</table>\n",
       "</div>"
      ],
      "text/plain": [
       "         DATE  PRECIPITATION  MAX_TEMP  MIN_TEMP  AVG_WIND_SPEED  \\\n",
       "0  1984-01-01            0.0      79.0      51.0            4.70   \n",
       "1  1984-01-02            0.0      71.0      46.0            5.59   \n",
       "2  1984-01-03            0.0      70.0      47.0            5.37   \n",
       "3  1984-01-04            0.0      76.0      45.0            4.70   \n",
       "4  1984-01-05            0.0      74.0      49.0            5.14   \n",
       "\n",
       "   FIRE_START_DAY  YEAR  TEMP_RANGE  WIND_TEMP_RATIO  MONTH  SEASON  \\\n",
       "0           False  1984        28.0         0.059494      1  Winter   \n",
       "1           False  1984        25.0         0.078732      1  Winter   \n",
       "2           False  1984        23.0         0.076714      1  Winter   \n",
       "3           False  1984        31.0         0.061842      1  Winter   \n",
       "4           False  1984        25.0         0.069459      1  Winter   \n",
       "\n",
       "   LAGGED_PRECIPITATION  LAGGED_AVG_WIND_SPEED  DAY_OF_YEAR  \n",
       "0                   0.0                  4.700            1  \n",
       "1                   0.0                  5.145            2  \n",
       "2                   0.0                  5.220            3  \n",
       "3                   0.0                  5.090            4  \n",
       "4                   0.0                  5.100            5  "
      ]
     },
     "execution_count": 5,
     "metadata": {},
     "output_type": "execute_result"
    }
   ],
   "source": [
    "du_lieu.head()\n"
   ]
  },
  {
   "cell_type": "markdown",
   "id": "9ea7f826",
   "metadata": {},
   "source": [
    "B5"
   ]
  },
  {
   "cell_type": "code",
   "execution_count": 6,
   "id": "0a7afcc9",
   "metadata": {},
   "outputs": [
    {
     "name": "stdout",
     "output_type": "stream",
     "text": [
      "📊 Các cột trong dữ liệu:\n",
      "['DATE', 'PRECIPITATION', 'MAX_TEMP', 'MIN_TEMP', 'AVG_WIND_SPEED', 'FIRE_START_DAY', 'YEAR', 'TEMP_RANGE', 'WIND_TEMP_RATIO', 'MONTH', 'SEASON', 'LAGGED_PRECIPITATION', 'LAGGED_AVG_WIND_SPEED', 'DAY_OF_YEAR']\n",
      "\n",
      "🔍 Số lượng giá trị thiếu (NaN) theo từng cột:\n",
      "DATE                      0\n",
      "PRECIPITATION             1\n",
      "MAX_TEMP                  1\n",
      "MIN_TEMP                  1\n",
      "AVG_WIND_SPEED           12\n",
      "FIRE_START_DAY            0\n",
      "YEAR                      0\n",
      "TEMP_RANGE                1\n",
      "WIND_TEMP_RATIO          12\n",
      "MONTH                     0\n",
      "SEASON                    0\n",
      "LAGGED_PRECIPITATION      0\n",
      "LAGGED_AVG_WIND_SPEED     0\n",
      "DAY_OF_YEAR               0\n",
      "dtype: int64\n"
     ]
    }
   ],
   "source": [
    "print(\"📊 Các cột trong dữ liệu:\")\n",
    "print(list(du_lieu.columns))\n",
    "\n",
    "print(\"\\n🔍 Số lượng giá trị thiếu (NaN) theo từng cột:\")\n",
    "print(du_lieu.isna().sum())\n"
   ]
  },
  {
   "cell_type": "markdown",
   "id": "1e911d3d",
   "metadata": {},
   "source": [
    "B6"
   ]
  },
  {
   "cell_type": "code",
   "execution_count": 7,
   "id": "9ebccdf7",
   "metadata": {},
   "outputs": [
    {
     "name": "stdout",
     "output_type": "stream",
     "text": [
      "⚠️ Có tổng cộng 12 dòng bị thiếu dữ liệu.\n",
      "\n"
     ]
    },
    {
     "data": {
      "text/html": [
       "<div>\n",
       "<style scoped>\n",
       "    .dataframe tbody tr th:only-of-type {\n",
       "        vertical-align: middle;\n",
       "    }\n",
       "\n",
       "    .dataframe tbody tr th {\n",
       "        vertical-align: top;\n",
       "    }\n",
       "\n",
       "    .dataframe thead th {\n",
       "        text-align: right;\n",
       "    }\n",
       "</style>\n",
       "<table border=\"1\" class=\"dataframe\">\n",
       "  <thead>\n",
       "    <tr style=\"text-align: right;\">\n",
       "      <th></th>\n",
       "      <th>DATE</th>\n",
       "      <th>PRECIPITATION</th>\n",
       "      <th>MAX_TEMP</th>\n",
       "      <th>MIN_TEMP</th>\n",
       "      <th>AVG_WIND_SPEED</th>\n",
       "      <th>FIRE_START_DAY</th>\n",
       "      <th>YEAR</th>\n",
       "      <th>TEMP_RANGE</th>\n",
       "      <th>WIND_TEMP_RATIO</th>\n",
       "      <th>MONTH</th>\n",
       "      <th>SEASON</th>\n",
       "      <th>LAGGED_PRECIPITATION</th>\n",
       "      <th>LAGGED_AVG_WIND_SPEED</th>\n",
       "      <th>DAY_OF_YEAR</th>\n",
       "    </tr>\n",
       "  </thead>\n",
       "  <tbody>\n",
       "    <tr>\n",
       "      <th>4808</th>\n",
       "      <td>1997-03-01</td>\n",
       "      <td>0.0</td>\n",
       "      <td>64.0</td>\n",
       "      <td>46.0</td>\n",
       "      <td>NaN</td>\n",
       "      <td>False</td>\n",
       "      <td>1997</td>\n",
       "      <td>18.0</td>\n",
       "      <td>NaN</td>\n",
       "      <td>3</td>\n",
       "      <td>Spring</td>\n",
       "      <td>0.00</td>\n",
       "      <td>12.788333</td>\n",
       "      <td>60</td>\n",
       "    </tr>\n",
       "    <tr>\n",
       "      <th>4809</th>\n",
       "      <td>1997-03-02</td>\n",
       "      <td>0.0</td>\n",
       "      <td>60.0</td>\n",
       "      <td>45.0</td>\n",
       "      <td>NaN</td>\n",
       "      <td>False</td>\n",
       "      <td>1997</td>\n",
       "      <td>15.0</td>\n",
       "      <td>NaN</td>\n",
       "      <td>3</td>\n",
       "      <td>Spring</td>\n",
       "      <td>0.00</td>\n",
       "      <td>13.556000</td>\n",
       "      <td>61</td>\n",
       "    </tr>\n",
       "    <tr>\n",
       "      <th>4810</th>\n",
       "      <td>1997-03-03</td>\n",
       "      <td>0.0</td>\n",
       "      <td>59.0</td>\n",
       "      <td>47.0</td>\n",
       "      <td>NaN</td>\n",
       "      <td>False</td>\n",
       "      <td>1997</td>\n",
       "      <td>12.0</td>\n",
       "      <td>NaN</td>\n",
       "      <td>3</td>\n",
       "      <td>Spring</td>\n",
       "      <td>0.00</td>\n",
       "      <td>13.925000</td>\n",
       "      <td>62</td>\n",
       "    </tr>\n",
       "    <tr>\n",
       "      <th>14879</th>\n",
       "      <td>2024-09-26</td>\n",
       "      <td>0.0</td>\n",
       "      <td>70.0</td>\n",
       "      <td>60.0</td>\n",
       "      <td>NaN</td>\n",
       "      <td>False</td>\n",
       "      <td>2024</td>\n",
       "      <td>10.0</td>\n",
       "      <td>NaN</td>\n",
       "      <td>9</td>\n",
       "      <td>Fall</td>\n",
       "      <td>0.00</td>\n",
       "      <td>7.678333</td>\n",
       "      <td>270</td>\n",
       "    </tr>\n",
       "    <tr>\n",
       "      <th>14971</th>\n",
       "      <td>2024-12-27</td>\n",
       "      <td>0.0</td>\n",
       "      <td>61.0</td>\n",
       "      <td>49.0</td>\n",
       "      <td>NaN</td>\n",
       "      <td>False</td>\n",
       "      <td>2024</td>\n",
       "      <td>12.0</td>\n",
       "      <td>NaN</td>\n",
       "      <td>12</td>\n",
       "      <td>Winter</td>\n",
       "      <td>0.01</td>\n",
       "      <td>5.183333</td>\n",
       "      <td>362</td>\n",
       "    </tr>\n",
       "    <tr>\n",
       "      <th>14972</th>\n",
       "      <td>2024-12-28</td>\n",
       "      <td>0.0</td>\n",
       "      <td>59.0</td>\n",
       "      <td>53.0</td>\n",
       "      <td>NaN</td>\n",
       "      <td>False</td>\n",
       "      <td>2024</td>\n",
       "      <td>6.0</td>\n",
       "      <td>NaN</td>\n",
       "      <td>12</td>\n",
       "      <td>Winter</td>\n",
       "      <td>0.01</td>\n",
       "      <td>5.102000</td>\n",
       "      <td>363</td>\n",
       "    </tr>\n",
       "    <tr>\n",
       "      <th>14973</th>\n",
       "      <td>2024-12-29</td>\n",
       "      <td>0.0</td>\n",
       "      <td>58.0</td>\n",
       "      <td>47.0</td>\n",
       "      <td>NaN</td>\n",
       "      <td>False</td>\n",
       "      <td>2024</td>\n",
       "      <td>11.0</td>\n",
       "      <td>NaN</td>\n",
       "      <td>12</td>\n",
       "      <td>Winter</td>\n",
       "      <td>0.01</td>\n",
       "      <td>5.370000</td>\n",
       "      <td>364</td>\n",
       "    </tr>\n",
       "    <tr>\n",
       "      <th>14974</th>\n",
       "      <td>2024-12-30</td>\n",
       "      <td>0.0</td>\n",
       "      <td>62.0</td>\n",
       "      <td>52.0</td>\n",
       "      <td>NaN</td>\n",
       "      <td>False</td>\n",
       "      <td>2024</td>\n",
       "      <td>10.0</td>\n",
       "      <td>NaN</td>\n",
       "      <td>12</td>\n",
       "      <td>Winter</td>\n",
       "      <td>0.01</td>\n",
       "      <td>5.220000</td>\n",
       "      <td>365</td>\n",
       "    </tr>\n",
       "    <tr>\n",
       "      <th>14975</th>\n",
       "      <td>2024-12-31</td>\n",
       "      <td>NaN</td>\n",
       "      <td>NaN</td>\n",
       "      <td>NaN</td>\n",
       "      <td>NaN</td>\n",
       "      <td>False</td>\n",
       "      <td>2024</td>\n",
       "      <td>NaN</td>\n",
       "      <td>NaN</td>\n",
       "      <td>12</td>\n",
       "      <td>Winter</td>\n",
       "      <td>0.00</td>\n",
       "      <td>4.920000</td>\n",
       "      <td>366</td>\n",
       "    </tr>\n",
       "    <tr>\n",
       "      <th>14976</th>\n",
       "      <td>2025-01-01</td>\n",
       "      <td>0.0</td>\n",
       "      <td>59.0</td>\n",
       "      <td>47.0</td>\n",
       "      <td>NaN</td>\n",
       "      <td>False</td>\n",
       "      <td>2025</td>\n",
       "      <td>12.0</td>\n",
       "      <td>NaN</td>\n",
       "      <td>1</td>\n",
       "      <td>Winter</td>\n",
       "      <td>0.00</td>\n",
       "      <td>4.700000</td>\n",
       "      <td>1</td>\n",
       "    </tr>\n",
       "  </tbody>\n",
       "</table>\n",
       "</div>"
      ],
      "text/plain": [
       "             DATE  PRECIPITATION  MAX_TEMP  MIN_TEMP  AVG_WIND_SPEED  \\\n",
       "4808   1997-03-01            0.0      64.0      46.0             NaN   \n",
       "4809   1997-03-02            0.0      60.0      45.0             NaN   \n",
       "4810   1997-03-03            0.0      59.0      47.0             NaN   \n",
       "14879  2024-09-26            0.0      70.0      60.0             NaN   \n",
       "14971  2024-12-27            0.0      61.0      49.0             NaN   \n",
       "14972  2024-12-28            0.0      59.0      53.0             NaN   \n",
       "14973  2024-12-29            0.0      58.0      47.0             NaN   \n",
       "14974  2024-12-30            0.0      62.0      52.0             NaN   \n",
       "14975  2024-12-31            NaN       NaN       NaN             NaN   \n",
       "14976  2025-01-01            0.0      59.0      47.0             NaN   \n",
       "\n",
       "       FIRE_START_DAY  YEAR  TEMP_RANGE  WIND_TEMP_RATIO  MONTH  SEASON  \\\n",
       "4808            False  1997        18.0              NaN      3  Spring   \n",
       "4809            False  1997        15.0              NaN      3  Spring   \n",
       "4810            False  1997        12.0              NaN      3  Spring   \n",
       "14879           False  2024        10.0              NaN      9    Fall   \n",
       "14971           False  2024        12.0              NaN     12  Winter   \n",
       "14972           False  2024         6.0              NaN     12  Winter   \n",
       "14973           False  2024        11.0              NaN     12  Winter   \n",
       "14974           False  2024        10.0              NaN     12  Winter   \n",
       "14975           False  2024         NaN              NaN     12  Winter   \n",
       "14976           False  2025        12.0              NaN      1  Winter   \n",
       "\n",
       "       LAGGED_PRECIPITATION  LAGGED_AVG_WIND_SPEED  DAY_OF_YEAR  \n",
       "4808                   0.00              12.788333           60  \n",
       "4809                   0.00              13.556000           61  \n",
       "4810                   0.00              13.925000           62  \n",
       "14879                  0.00               7.678333          270  \n",
       "14971                  0.01               5.183333          362  \n",
       "14972                  0.01               5.102000          363  \n",
       "14973                  0.01               5.370000          364  \n",
       "14974                  0.01               5.220000          365  \n",
       "14975                  0.00               4.920000          366  \n",
       "14976                  0.00               4.700000            1  "
      ]
     },
     "execution_count": 7,
     "metadata": {},
     "output_type": "execute_result"
    }
   ],
   "source": [
    "du_lieu_thieu = du_lieu[du_lieu.isna().any(axis=1)]\n",
    "print(f\"⚠️ Có tổng cộng {len(du_lieu_thieu)} dòng bị thiếu dữ liệu.\\n\")\n",
    "du_lieu_thieu.head(10)\n"
   ]
  },
  {
   "cell_type": "markdown",
   "id": "8fd14179",
   "metadata": {},
   "source": [
    "B7"
   ]
  },
  {
   "cell_type": "code",
   "execution_count": 9,
   "id": "6809f11a",
   "metadata": {},
   "outputs": [
    {
     "name": "stdout",
     "output_type": "stream",
     "text": [
      "Ngày 1997-03-01: thiếu AVG_WIND_SPEED, WIND_TEMP_RATIO\n",
      "Ngày 1997-03-02: thiếu AVG_WIND_SPEED, WIND_TEMP_RATIO\n",
      "Ngày 1997-03-03: thiếu AVG_WIND_SPEED, WIND_TEMP_RATIO\n",
      "Ngày 2024-09-26: thiếu AVG_WIND_SPEED, WIND_TEMP_RATIO\n",
      "Ngày 2024-12-27: thiếu AVG_WIND_SPEED, WIND_TEMP_RATIO\n",
      "Ngày 2024-12-28: thiếu AVG_WIND_SPEED, WIND_TEMP_RATIO\n",
      "Ngày 2024-12-29: thiếu AVG_WIND_SPEED, WIND_TEMP_RATIO\n",
      "Ngày 2024-12-30: thiếu AVG_WIND_SPEED, WIND_TEMP_RATIO\n",
      "Ngày 2024-12-31: thiếu PRECIPITATION, MAX_TEMP, MIN_TEMP, AVG_WIND_SPEED, TEMP_RANGE, WIND_TEMP_RATIO\n",
      "Ngày 2025-01-01: thiếu AVG_WIND_SPEED, WIND_TEMP_RATIO\n",
      "Ngày 2025-01-11: thiếu AVG_WIND_SPEED, WIND_TEMP_RATIO\n",
      "Ngày 2025-01-12: thiếu AVG_WIND_SPEED, WIND_TEMP_RATIO\n"
     ]
    }
   ],
   "source": [
    "if \"DATE\" in du_lieu.columns:\n",
    "    for i, hang in du_lieu_thieu.iterrows():\n",
    "        ngay = hang[\"DATE\"]\n",
    "        cot_thieu = [cot for cot in du_lieu.columns if pd.isna(hang[cot])]\n",
    "        print(f\"Ngày {ngay}: thiếu {', '.join(cot_thieu)}\")\n",
    "else:\n",
    "    for i, hang in du_lieu_thieu.iterrows():\n",
    "        cot_thieu = [cot for cot in du_lieu.columns if pd.isna(hang[cot])]\n",
    "        print(f\"Dòng {i}: thiếu {', '.join(cot_thieu)}\")\n"
   ]
  },
  {
   "cell_type": "markdown",
   "id": "4df25628",
   "metadata": {},
   "source": [
    "B8- Lưu dòng bị thiếu vào file riêng "
   ]
  },
  {
   "cell_type": "code",
   "execution_count": 10,
   "id": "b8242fc3",
   "metadata": {},
   "outputs": [
    {
     "name": "stdout",
     "output_type": "stream",
     "text": [
      "💾 Đã lưu các dòng bị thiếu dữ liệu vào file 'removed_rows.csv'.\n"
     ]
    }
   ],
   "source": [
    "du_lieu_thieu.to_csv(\"removed_rows.csv\", index=False)\n",
    "print(\"💾 Đã lưu các dòng bị thiếu dữ liệu vào file 'removed_rows.csv'.\")\n"
   ]
  },
  {
   "cell_type": "markdown",
   "id": "76405ffe",
   "metadata": {},
   "source": [
    "B9:"
   ]
  },
  {
   "cell_type": "code",
   "execution_count": 11,
   "id": "f9b98bf3",
   "metadata": {},
   "outputs": [
    {
     "name": "stdout",
     "output_type": "stream",
     "text": [
      "✅ Sau khi xóa: còn lại 14976 dòng dữ liệu sạch.\n"
     ]
    }
   ],
   "source": [
    "du_lieu_day_du = du_lieu.dropna()\n",
    "print(f\"✅ Sau khi xóa: còn lại {du_lieu_day_du.shape[0]} dòng dữ liệu sạch.\")\n"
   ]
  },
  {
   "cell_type": "markdown",
   "id": "37e262d5",
   "metadata": {},
   "source": [
    "B10"
   ]
  },
  {
   "cell_type": "code",
   "execution_count": 13,
   "id": "50759daa",
   "metadata": {},
   "outputs": [
    {
     "name": "stdout",
     "output_type": "stream",
     "text": [
      "💾 Đã lưu dữ liệu sạch vào file 'CA_Weather_Fire_Dataset_Clean.csv'.\n",
      "\n",
      "🔁 Kiểm tra lại xem còn giá trị thiếu không:\n",
      "DATE                     0\n",
      "PRECIPITATION            0\n",
      "MAX_TEMP                 0\n",
      "MIN_TEMP                 0\n",
      "AVG_WIND_SPEED           0\n",
      "FIRE_START_DAY           0\n",
      "YEAR                     0\n",
      "TEMP_RANGE               0\n",
      "WIND_TEMP_RATIO          0\n",
      "MONTH                    0\n",
      "SEASON                   0\n",
      "LAGGED_PRECIPITATION     0\n",
      "LAGGED_AVG_WIND_SPEED    0\n",
      "DAY_OF_YEAR              0\n",
      "dtype: int64\n",
      "\n",
      "🎯 Hoàn tất xử lý dữ liệu thô.\n"
     ]
    }
   ],
   "source": [
    "du_lieu_day_du.to_csv(\"CA_Weather_Fire_Dataset_Clean.csv\", index=False)\n",
    "print(\"💾 Đã lưu dữ liệu sạch vào file 'CA_Weather_Fire_Dataset_Clean.csv'.\")\n",
    "\n",
    "print(\"\\n🔁 Kiểm tra lại xem còn giá trị thiếu không:\")\n",
    "print(du_lieu_day_du.isna().sum())\n",
    "\n",
    "print(\"\\n🎯 Hoàn tất xử lý dữ liệu thô.\")\n"
   ]
  }
 ],
 "metadata": {
  "kernelspec": {
   "display_name": ".venv",
   "language": "python",
   "name": "python3"
  },
  "language_info": {
   "codemirror_mode": {
    "name": "ipython",
    "version": 3
   },
   "file_extension": ".py",
   "mimetype": "text/x-python",
   "name": "python",
   "nbconvert_exporter": "python",
   "pygments_lexer": "ipython3",
   "version": "3.14.0"
  }
 },
 "nbformat": 4,
 "nbformat_minor": 5
}
